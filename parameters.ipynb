{
 "cells": [
  {
   "cell_type": "code",
   "execution_count": 1,
   "id": "76486292",
   "metadata": {},
   "outputs": [],
   "source": [
    "import feltorutilities as fp\n",
    "import numpy as np\n",
    "import pandas as pd\n",
    "pd.set_option('display.float_format', lambda x: '%.2e' % x)"
   ]
  },
  {
   "cell_type": "code",
   "execution_count": 5,
   "id": "3304f28b",
   "metadata": {},
   "outputs": [
    {
     "name": "stdout",
     "output_type": "stream",
     "text": [
      "Invert for given R\n",
      "Invert for given R\n",
      "Invert for given R\n",
      "Invert for given R\n",
      "Invert for given R\n",
      "Invert for given R\n"
     ]
    }
   ],
   "source": [
    "physicals=list()\n",
    "for res in np.sort([3e-4,1e-4,3e-5,1e-5,3e-6,1e-6]):\n",
    "    params = {\"name\" : \"Compass\",\n",
    "    \"beta\" : 1e-4, \"resistivity\": res, #change both to change n_0\n",
    "    \"tau\" : 1, \"m_i\" : fp.deuteron_mass, \"R_0\" : 545, \"R\": 0.545,\n",
    "    \"a\": 0.175, \"q\":2, \"scaleR\" : 1.45, \"Nz\" : 32}\n",
    "    physical = {\"m_i\" : fp.deuteron_mass,  \"R\": 0.545, \"a\": 0.175, \"q\":2, \"scaleR\" : 1.45, \"Nz\" : 32 }\n",
    "    fp.numerical2physical( params, physical)\n",
    "    physicals.append(physical)"
   ]
  },
  {
   "cell_type": "code",
   "execution_count": 6,
   "id": "12cff8f0",
   "metadata": {},
   "outputs": [],
   "source": [
    "data=list()\n",
    "columns=[*physicals[0].keys(), *fp.quantities() ]\n",
    "for physical in physicals:\n",
    "    data.append( fp.parameters2quantities( physical, columns))\n",
    "df = pd.DataFrame( data, columns=columns)"
   ]
  },
  {
   "cell_type": "code",
   "execution_count": 54,
   "id": "d6a2424c",
   "metadata": {},
   "outputs": [],
   "source": [
    "def orderToString(x): \n",
    "    if np.isnan(x) : return 'n/a'\n",
    "    return'%.2f'% x\n",
    "def errorToString(x):\n",
    "    return '%.2e' % x"
   ]
  },
  {
   "cell_type": "code",
   "execution_count": 56,
   "id": "35dd6cc0",
   "metadata": {},
   "outputs": [
    {
     "name": "stdout",
     "output_type": "stream",
     "text": [
      "n_0 \t\t 1.0365292394443688\n",
      "R \t\t 0.545\n",
      "m_i \t\t 3.343583719e-27\n",
      "rho_s \t\t 0.0010000000002649348\n"
     ]
    },
    {
     "name": "stderr",
     "output_type": "stream",
     "text": [
      "<ipython-input-56-b863b5165469>:8: SettingWithCopyWarning: \n",
      "A value is trying to be set on a copy of a slice from a DataFrame.\n",
      "Try using .loc[row_indexer,col_indexer] = value instead\n",
      "\n",
      "See the caveats in the documentation: https://pandas.pydata.org/pandas-docs/stable/user_guide/indexing.html#returning-a-view-versus-a-copy\n",
      "  df_str[header] = df_str[header].apply( errorToString)\n",
      "<ipython-input-56-b863b5165469>:10: SettingWithCopyWarning: \n",
      "A value is trying to be set on a copy of a slice from a DataFrame.\n",
      "Try using .loc[row_indexer,col_indexer] = value instead\n",
      "\n",
      "See the caveats in the documentation: https://pandas.pydata.org/pandas-docs/stable/user_guide/indexing.html#returning-a-view-versus-a-copy\n",
      "  df_str[header] = df_str[header].apply( orderToString)\n"
     ]
    },
    {
     "data": {
      "text/html": [
       "<div>\n",
       "<style scoped>\n",
       "    .dataframe tbody tr th:only-of-type {\n",
       "        vertical-align: middle;\n",
       "    }\n",
       "\n",
       "    .dataframe tbody tr th {\n",
       "        vertical-align: top;\n",
       "    }\n",
       "\n",
       "    .dataframe thead th {\n",
       "        text-align: right;\n",
       "    }\n",
       "</style>\n",
       "<table border=\"1\" class=\"dataframe\">\n",
       "  <thead>\n",
       "    <tr style=\"text-align: right;\">\n",
       "      <th></th>\n",
       "      <th>$B_0/$T</th>\n",
       "      <th>$T_e/$eV</th>\n",
       "      <th>$\\Omega_0^{-1}/$s</th>\n",
       "    </tr>\n",
       "    <tr>\n",
       "      <th>$\\eta$</th>\n",
       "      <th></th>\n",
       "      <th></th>\n",
       "      <th></th>\n",
       "    </tr>\n",
       "  </thead>\n",
       "  <tbody>\n",
       "    <tr>\n",
       "      <th>1.00e-06</th>\n",
       "      <td>1.27</td>\n",
       "      <td>77.76</td>\n",
       "      <td>1.64e-08</td>\n",
       "    </tr>\n",
       "    <tr>\n",
       "      <th>3.00e-06</th>\n",
       "      <td>0.97</td>\n",
       "      <td>44.90</td>\n",
       "      <td>2.16e-08</td>\n",
       "    </tr>\n",
       "    <tr>\n",
       "      <th>1.00e-05</th>\n",
       "      <td>0.72</td>\n",
       "      <td>24.59</td>\n",
       "      <td>2.91e-08</td>\n",
       "    </tr>\n",
       "    <tr>\n",
       "      <th>3.00e-05</th>\n",
       "      <td>0.54</td>\n",
       "      <td>14.20</td>\n",
       "      <td>3.83e-08</td>\n",
       "    </tr>\n",
       "    <tr>\n",
       "      <th>1.00e-04</th>\n",
       "      <td>0.40</td>\n",
       "      <td>7.78</td>\n",
       "      <td>5.18e-08</td>\n",
       "    </tr>\n",
       "    <tr>\n",
       "      <th>3.00e-04</th>\n",
       "      <td>0.31</td>\n",
       "      <td>4.49</td>\n",
       "      <td>6.82e-08</td>\n",
       "    </tr>\n",
       "  </tbody>\n",
       "</table>\n",
       "</div>"
      ],
      "text/plain": [
       "         $B_0/$T $T_e/$eV $\\Omega_0^{-1}/$s\n",
       "$\\eta$                                     \n",
       "1.00e-06    1.27    77.76          1.64e-08\n",
       "3.00e-06    0.97    44.90          2.16e-08\n",
       "1.00e-05    0.72    24.59          2.91e-08\n",
       "3.00e-05    0.54    14.20          3.83e-08\n",
       "1.00e-04    0.40     7.78          5.18e-08\n",
       "3.00e-04    0.31     4.49          6.82e-08"
      ]
     },
     "execution_count": 56,
     "metadata": {},
     "output_type": "execute_result"
    }
   ],
   "source": [
    "\n",
    "for s in [\"n_0\", \"R\", \"m_i\", \"rho_s\"]:\n",
    "    print( s, \"\\t\\t\", fp.parameters2quantity( physical, s))\n",
    "show = [\"resistivity\", \"B_0\", \"T_e\", \"omega_0_inv\"]\n",
    "df_str = df[show]\n",
    "df_str.columns = [\"$\\eta$\",\"$B_0/$T\", \"$T_e/$eV\", \"$\\Omega_0^{-1}/$s\"]\n",
    "\n",
    "for header in [\"$\\eta$\", \"$\\Omega_0^{-1}/$s\"] :  \n",
    "    df_str[header] = df_str[header].apply( errorToString)\n",
    "for header in [\"$B_0/$T\", \"$T_e/$eV\"] :  \n",
    "    df_str[header] = df_str[header].apply( orderToString)\n",
    "df_str.set_index(\"$\\eta$\", inplace=True)\n",
    "\n",
    "filename = \"parameters.tex\"\n",
    "with open(filename, 'wb') as f:\n",
    "    f.write(bytes(df_str.style.to_latex(\n",
    "        column_format='rrrr', hrules=True),'UTF-8'))\n",
    "    \n",
    "\n",
    "df_str"
   ]
  },
  {
   "cell_type": "markdown",
   "id": "f9f7ba36",
   "metadata": {},
   "source": [
    "## "
   ]
  }
 ],
 "metadata": {
  "kernelspec": {
   "display_name": "Python 3",
   "language": "python",
   "name": "python3"
  },
  "language_info": {
   "codemirror_mode": {
    "name": "ipython",
    "version": 3
   },
   "file_extension": ".py",
   "mimetype": "text/x-python",
   "name": "python",
   "nbconvert_exporter": "python",
   "pygments_lexer": "ipython3",
   "version": "3.8.10"
  }
 },
 "nbformat": 4,
 "nbformat_minor": 5
}
