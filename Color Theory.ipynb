{
 "cells": [
  {
   "cell_type": "markdown",
   "metadata": {},
   "source": [
    "# Color Theory\n",
    "\n",
    "Contains material from \n",
    "https://www.youtube.com/watch?v=M_eA66NOSik\n",
    "\n",
    "- Francesca Samsel (Researcher, Texas advanced computing center, Artist)\n",
    "- Danielle Szafir (Assist. Prof, Boulder, Colorado)\n",
    "- Karen Schloss (Assist. Prof, Dept. Psychology, Wisconsin, MA) Viz that are easy to interpret"
   ]
  },
  {
   "cell_type": "markdown",
   "metadata": {},
   "source": [
    "## Principles of Color Discriminability (Danielle Szafir)\n",
    "**Just notieceable difference (JND)** The smallest color difference that can be reliably detected.\n",
    "\n",
    "### Color Spaces\n",
    "**Color as Wavelength** Use wavelength of light to designate a color (not very rich way of thinking)\n",
    "\n",
    "**sRGB** The way computers represent color (similar to what happens in the eye), but NOT perceptually uniform, i.e. Equal distance in RGB != Equal perceived distance\n",
    "\n",
    "**CIELAB** Lightness, how much red/green is present (A), how much yellow/blue is present(B) (forms a hue/saturation plane)\n",
    "CIELAB is made such that Euclidean distance approximates perceived distance (approximately perceptually uniform)\n",
    "\n",
    "**HSL** Hue (H) - the color, Saturation (S) - how intense, or how close to gray, Lightness (L) - how much white/black is present; Close to how artists think of color\n",
    "in nature, the colors of objects far away are less saturated; colormixes with white are called *tints*, colormixes with black are called *shades*\n",
    "\n",
    "HSL (*artistic space*) is a good way of talking about and designing colors, but just as RGB (*computer space*) is not perceptually uniform. CIELAB (*perceptural space*) is uniform but is unintuitive to talk about.\n",
    "\n",
    "Color encodings (should) tend to rely on lightness steps (lightness monotonicity), while minimizing hue steps BUT colormaps that have many namable colors (highly categorizable) \n",
    "\n",
    "### Color Differences\n",
    "Problem of JND: real world is noisy (ambient light, monitors are not perfect, paper, ...)\n",
    "\n",
    "Very large differences between colors tend to be non-meaningful => *Cognitive comparision* becomes more meaningful\n",
    "\n",
    "*Color Naming* Colors that have different names are easier to discriminate and cluster\n",
    "### Challenges in Visualization\n",
    "\n",
    "Categorical (use Names) vs sequential encoding (use JND, e.g. lightness)\n",
    "For example divergent colormaps divide data into two groups that are *categorically distinguishable*\n",
    "Within each group data should be continuously distinguishable\n",
    "\n",
    "Expert-designed color-ramps are often **not linear in CIELAB**"
   ]
  },
  {
   "cell_type": "markdown",
   "metadata": {},
   "source": [
    "# Colormap design\n",
    "Reda & Szafir (2021) Rainbows revisited: Modeling effective colormap design for graphical inference\n",
    "\n",
    "https://ieeexplore.ieee.org/stamp/stamp.jsp?tp=&arnumber=9222327\n",
    "## Traditional guidelines\n",
    "- *Order* a good colormap sequence should be naturally orderable (e.g. from a cool blue color to warm red)\n",
    "- *Continuity* the colormap should only reflect actual differences in the data without creating artificial boundaries\n",
    "- *Perceptual Uniformity* adjacent colors should reflect even perceptual distances throughout the sequence, such that a step in magnitude is matched by an equivalent perceptual step in color\n",
    "\n",
    "=> advocate ramps with monotonically increasing luminance\n",
    "\n",
    "=> rainbows tend to create boundaries between hues (hue banding) that may \"mislead viewers\"\n",
    "=> rainbows like jet make it difficult to judge perceptual distances\n",
    "\n",
    "=> so why do rainbows still work better than sequential maps?\n",
    "\n",
    "## Conclusion\n",
    "Colormap must not only help perceive low-level data features but also facilitate accurate interpretation and inference. Performance in the latter is correlated to **cognitive properties** of colormaps rather than *perceptual*."
   ]
  },
  {
   "cell_type": "markdown",
   "metadata": {},
   "source": [
    "## Color cognition for visualization (Karen Schloss)\n",
    "\n",
    "Factors involved in colormap design\n",
    "- perception (you can perceive as different colors)\n",
    "- cognition (you can name different colors)\n",
    "- aesthetics (similar, cool hues and lightness contrasts are preferable)\n",
    "- affective impression (what emotions colors evoke)\n",
    "- semantic interpretation (colors map to different concepts, observers have expectations)\n",
    "\n",
    "### Semantics\n",
    "A visualization encodes a message that the designer transmits and the observer receives \n",
    "\n",
    "It is easier to interpret encoding systems that match expectations (for example a paper trash can is white)\n",
    "\n",
    "**Semantic discriminabilty dominates perceptual discriminability** \n",
    "\n",
    "**Dark-is-more bias**: darker colors map to larger quantities\n",
    "People interpret colormaps faster where dark is more.\n",
    "\n",
    "Opaque-is-more bias: If colors vary in opacity (lightness) then dark means more on a light background (like a cloud in daylight), while light means more on dark backgound (light-emitting stars in universe)"
   ]
  },
  {
   "cell_type": "markdown",
   "metadata": {},
   "source": [
    "## Artistic color contrast theory, color interaction and the cost of one-size fits all (Francesca Samsel)\n",
    "\n",
    "### Color Contrast, not hue enables to see more detail\n",
    "Things that make contrast in a painting: *hue, lightness (how light, strongest contrast), saturation (how intense), complimentary (visual volume of color), cool warm, proportion, simultaneity (hues that abutt one another have a visual vibration)*\n",
    "\n",
    "Luminance is the strongest kind of contrast\n",
    "\n",
    "*The key is allocating the types and levels of contrast that best enable the task and purpose of the visualization*\n",
    "\n",
    "There is a **contrast budget**: contrast directs attention, e.g. saturated colors guide to the important parts of a painting, but if there is too much it is distracting.\n",
    "\n",
    "\n",
    "There is **contrast of simultaneity** when two hues of full saturation are next to each other they generate a visual vibration. Lower saturation can make it better\n",
    "\n",
    "On a wide data range, a perceptually uniform colormap makes it hard to focus on any part of the picture. The brain can easily focus on parts of a picture with the same color say\n",
    "\n",
    "### Color interaction\n",
    "\n",
    "Lower saturation calms the picture and every color will be seen.\n",
    "\n",
    "Using too much saturation makes it hard to add anything to the picture because it will not be seen.\n",
    "\n",
    "There is **cognitive load**: It is tiring to look at too much contrast and saturation. Lower the *volume of contrast*."
   ]
  },
  {
   "cell_type": "markdown",
   "metadata": {},
   "source": [
    "## Useful links\n",
    "- https://sciviscolor.org/ (ColorMoves for composing colormaps and seeing them work on a dataset)\n",
    "- http://cu-visualab.org/ColorCrafter/ Alpha version does not work well"
   ]
  },
  {
   "cell_type": "code",
   "execution_count": 1,
   "metadata": {},
   "outputs": [],
   "source": [
    "\n",
    "import numpy as np\n",
    "import json\n",
    "from bs4 import BeautifulSoup\n",
    "import matplotlib.colors as mcolors\n",
    "import matplotlib.pyplot as plt"
   ]
  },
  {
   "cell_type": "code",
   "execution_count": 2,
   "metadata": {},
   "outputs": [
    {
     "data": {
      "image/png": "[encoded data removed]",
      "text/html": [
       "<div style=\"vertical-align: middle;\"><strong>custom_colormap</strong> </div><div class=\"cmap\"><img alt=\"custom_colormap colormap\" title=\"custom_colormap\" style=\"border: 1px solid #555;\" src=\"data:image/png;base64,iVBORw0KGgoAAAANSUhEUgAAAgAAAABACAYAAABsv8+/AAAAHnRFWHRUaXRsZQBjdXN0b21fY29sb3JtYXAgY29sb3JtYXB5JmvcAAAAJHRFWHREZXNjcmlwdGlvbgBjdXN0b21fY29sb3JtYXAgY29sb3JtYXCzmoKzAAAAMHRFWHRBdXRob3IATWF0cGxvdGxpYiB2My41LjMsIGh0dHBzOi8vbWF0cGxvdGxpYi5vcmdn0eiSAAAAMnRFWHRTb2Z0d2FyZQBNYXRwbG90bGliIHYzLjUuMywgaHR0cHM6Ly9tYXRwbG90bGliLm9yZ0l3d7UAAALHSURBVHic7dZBets4DAZQ0LHbSQ/QU/X+Z2lai+pCoPKRtjsza7y3QUBQjGzFzt++tx97RETELSIiWsu69i/Wo12zXrK+RUTEfvbz+ujvcfT3/ajb2o/r3vK86+izXvO8XG9nXdbP/aNv0zntPLfl7bWpj1f9i/V9nT/U+Jf5vG9/m+9vf2vP+8vz+ee+eH6/L/bHun+t17Uf9/v3+fk+53w8j/PP49X68nxe9eNxvud179l/u+xTv87f85zPeqx/zfql9YiIuLXjnFvsz9fPPpbaprfhXI/jhy/5wD/7NvW3ZX72+Tm55gO75Rt2y/6S+0cd+7/l5/af7Pf9I+vP48b2X1k/lv6obV2Pcf3of+c8a9zneZ/rvvTj3L3n9f0+9Xv2sfRn3Zb5Ns/7tuV6z7rNtfd53vNr8mF99PuL9ec18rxz38P52R+3EzHO73M/5uv+fVlf+3NfX+b9v81fn7POn//+xzrP+z3rsq/nvnV+1vH2PvRZ+7y+5b4t17fzutHHPB/X9ZYvL2u/LP1R76OPuT9rLOdETP196cc8X378yu+hj6z/tx//jgCAQgQAAChIAACAggQAAChIAACAggQAAChIAACAggQAAChIAACAggQAAChIAACAggQAAChIAACAggQAAChIAACAggQAAChIAACAggQAAChIAACAggQAAChIAACAggQAAChIAACAggQAAChIAACAggQAAChIAACAggQAAChIAACAggQAAChIAACAggQAAChIAACAggQAAChIAACAggQAAChIAACAggQAAChIAACAggQAAChIAACAggQAAChIAACAggQAAChIAACAggQAAChIAACAggQAAChIAACAggQAAChIAACAggQAAChIAACAggQAAChIAACAggQAAChIAACAggQAAChIAACAggQAAChIAACAggQAAChIAACAgv4AUFREzm3xu7UAAAAASUVORK5CYII=\"></div><div style=\"vertical-align: middle; max-width: 514px; display: flex; justify-content: space-between;\"><div style=\"float: left;\"><div title=\"#16014cff\" style=\"display: inline-block; width: 1em; height: 1em; margin: 0; vertical-align: middle; border: 1px solid #555; background-color: #16014cff;\"></div> under</div><div style=\"margin: 0 auto; display: inline-block;\">bad <div title=\"#00000000\" style=\"display: inline-block; width: 1em; height: 1em; margin: 0; vertical-align: middle; border: 1px solid #555; background-color: #00000000;\"></div></div><div style=\"float: right;\">over <div title=\"#300012ff\" style=\"display: inline-block; width: 1em; height: 1em; margin: 0; vertical-align: middle; border: 1px solid #555; background-color: #300012ff;\"></div></div>"
      ],
      "text/plain": [
       "<matplotlib.colors.LinearSegmentedColormap at 0x7f64d151fb50>"
      ]
     },
     "execution_count": 2,
     "metadata": {},
     "output_type": "execute_result"
    }
   ],
   "source": [
    "def xml2cm( file, name='custom_colormap') :\n",
    "    \"\"\"Converts a paraview compatible colormap xml file to a matplotlib colormap\n",
    "    \n",
    "    https://www.paraview.org/Wiki/Colormaps\n",
    "    Parameters\n",
    "    ----------\n",
    "    file: file-like\n",
    "        xml file containing colormap\n",
    "    name: str\n",
    "        name to give to the colormap.\n",
    "    Returns\n",
    "    -------\n",
    "    cmap : matplotlib.colors.LinearSegmentedColormap\n",
    "    \"\"\"\n",
    "    soup = BeautifulSoup(open(file), 'xml')\n",
    "    unified = []\n",
    "    for s in soup.find_all('Point'):\n",
    "        position  = float(s['x'])\n",
    "        color = (float(s['r']),float(s['g']),float(s['b']))\n",
    "        unified.append( (position, color))\n",
    "\n",
    "    return mcolors.LinearSegmentedColormap.from_list( name, unified)\n",
    "my_cmap = xml2cm( 'div1-blue-orange-div.xml')\n",
    "my_cmap"
   ]
  },
  {
   "cell_type": "code",
   "execution_count": 3,
   "metadata": {},
   "outputs": [],
   "source": [
    "def cm2json(  cmap, file):\n",
    "    \"\"\" Create a json file that can be imported into paraview \n",
    "    \n",
    "    Format inferred from paraview's export function\n",
    "    Parameters\n",
    "    ----------\n",
    "    cmap : matplotlib.colors.Colormap\n",
    "    file: file-like\n",
    "        json file name where the colormap is written\n",
    "    \n",
    "    \"\"\"\n",
    "    gradient= np.linspace( 0,1, cmap.N)\n",
    "    xrgb_list = []\n",
    "    for g in gradient:\n",
    "        rgb = mcolors.to_rgb( cmap(g))\n",
    "        xrgb_list.append( (g, rgb[0],rgb[1],rgb[2])) # x r g b \n",
    "        \n",
    "    pc = [{\"Colorspace\": \"User\",\n",
    "           \"Creator\": \"Matthias\",\n",
    "           \"Name\" : cmap.name,\n",
    "           \"RGBPoints\" : list( sum(xrgb_list,())) # flatten list\n",
    "          }]\n",
    "    with open( file, \"w\") as f:\n",
    "        json.dump(pc, f, indent=4 )\n",
    "cm2json( my_cmap, 'my_cmap.json')"
   ]
  },
  {
   "cell_type": "code",
   "execution_count": null,
   "metadata": {},
   "outputs": [],
   "source": []
  }
 ],
 "metadata": {
  "kernelspec": {
   "display_name": "Python 3",
   "language": "python",
   "name": "python3"
  },
  "language_info": {
   "codemirror_mode": {
    "name": "ipython",
    "version": 3
   },
   "file_extension": ".py",
   "mimetype": "text/x-python",
   "name": "python",
   "nbconvert_exporter": "python",
   "pygments_lexer": "ipython3",
   "version": "3.8.10"
  }
 },
 "nbformat": 4,
 "nbformat_minor": 4
}
