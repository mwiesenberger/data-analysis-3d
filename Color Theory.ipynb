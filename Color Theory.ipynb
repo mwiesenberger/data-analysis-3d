{
 "cells": [
  {
   "cell_type": "markdown",
   "metadata": {},
   "source": [
    "# Color Theory\n",
    "\n",
    "Contains material from \n",
    "https://www.youtube.com/watch?v=M_eA66NOSik\n",
    "\n",
    "- Francesca Samsel (Researcher, Texas advanced computing center, Artist)\n",
    "- Danielle Szafir (Assist. Prof, Boulder, Colorado)\n",
    "- Karen Schloss (Assist. Prof, Dept. Psychology, Wisconsin, MA) Viz that are easy to interpret"
   ]
  },
  {
   "cell_type": "markdown",
   "metadata": {},
   "source": [
    "## Principles of Color Discriminability (Danielle Szafir)\n",
    "**Just notieceable difference (JND)** The smallest color difference that can be reliably detected.\n",
    "\n",
    "### Color Spaces\n",
    "**Color as Wavelength** Use wavelength of light to designate a color (not very rich way of thinking)\n",
    "\n",
    "**sRGB** The way computers represent color (similar to what happens in the eye), but NOT perceptually uniform, i.e. Equal distance in RGB != Equal perceived distance\n",
    "\n",
    "**CIELAB** Lightness, how much red/green is present (A), how much yellow/blue is present(B) (forms a hue/saturation plane)\n",
    "CIELAB is made such that Euclidean distance approximates perceived distance (approximately perceptually uniform)\n",
    "\n",
    "**HSL** Hue (H) - the color, Saturation (S) - how intense, or how close to gray, Lightness (L) - how much white/black is present; Close to how artists think of color\n",
    "in nature, the colors of objects far away are less saturated; colormixes with white are called *tints*, colormixes with black are called *shades*\n",
    "\n",
    "HSL (*artistic space*) is a good way of talking about and designing colors, but just as RGB (*computer space*) is not perceptually uniform. CIELAB (*perceptural space*) is uniform but is unintuitive to talk about.\n",
    "\n",
    "Color encodings (should) tend to rely on lightness steps (lightness monotonicity), while minimizing hue steps BUT colormaps that have many namable colors (highly categorizable) \n",
    "\n",
    "### Color Differences\n",
    "Problem of JND: real world is noisy (ambient light, monitors are not perfect, paper, ...)\n",
    "\n",
    "Very large differences between colors tend to be non-meaningful => *Cognitive comparision* becomes more meaningful\n",
    "\n",
    "*Color Naming* Colors that have different names are easier to discriminate and cluster\n",
    "### Challenges in Visualization\n",
    "\n",
    "Categorical (use Names) vs sequential encoding (use JND, e.g. lightness)\n",
    "For example divergent colormaps divide data into two groups that are *categorically distinguishable*\n",
    "Within each group data should be continuously distinguishable\n",
    "\n",
    "Expert-designed color-ramps are often **not linear in CIELAB**"
   ]
  },
  {
   "cell_type": "markdown",
   "metadata": {},
   "source": [
    "# Colormap design\n",
    "Reda & Szafir (2021) Rainbows revisited: Modeling effective colormap design for graphical inference\n",
    "\n",
    "https://ieeexplore.ieee.org/stamp/stamp.jsp?tp=&arnumber=9222327\n",
    "## Traditional guidelines\n",
    "- *Order* a good colormap sequence should be naturally orderable (e.g. from a cool blue color to warm red)\n",
    "- *Continuity* the colormap should only reflect actual differences in the data without creating artificial boundaries\n",
    "- *Perceptual Uniformity* adjacent colors should reflect even perceptual distances throughout the sequence, such that a step in magnitude is matched by an equivalent perceptual step in color\n",
    "\n",
    "=> advocate ramps with monotonically increasing luminance\n",
    "\n",
    "=> rainbows tend to create boundaries between hues (hue banding) that may \"mislead viewers\"\n",
    "=> rainbows like jet make it difficult to judge perceptual distances\n",
    "\n",
    "=> so why do rainbows still work better than sequential maps?\n",
    "\n",
    "## Conclusion\n",
    "Colormap must not only help perceive low-level data features but also facilitate accurate interpretation and inference. Performance in the latter is correlated to **cognitive properties** of colormaps rather than *perceptual*."
   ]
  },
  {
   "cell_type": "markdown",
   "metadata": {},
   "source": [
    "## Color cognition for visualization (Karen Schloss)\n",
    "\n",
    "Factors involved in colormap design\n",
    "- perception (you can perceive as different colors)\n",
    "- cognition (you can name different colors)\n",
    "- aesthetics (similar, cool hues and lightness contrasts are preferable)\n",
    "- affective impression (what emotions colors evoke)\n",
    "- semantic interpretation (colors map to different concepts, observers have expectations)\n",
    "\n",
    "### Semantics\n",
    "A visualization encodes a message that the designer transmits and the observer receives \n",
    "\n",
    "It is easier to interpret encoding systems that match expectations (for example a paper trash can is white)\n",
    "\n",
    "**Semantic discriminabilty dominates perceptual discriminability** \n",
    "\n",
    "**Dark-is-more bias**: darker colors map to larger quantities\n",
    "People interpret colormaps faster where dark is more.\n",
    "\n",
    "Opaque-is-more bias: If colors vary in opacity (lightness) then dark means more on a light background (like a cloud in daylight), while light means more on dark backgound (light-emitting stars in universe)"
   ]
  },
  {
   "cell_type": "markdown",
   "metadata": {},
   "source": [
    "## Artistic color contrast theory, color interaction and the cost of one-size fits all (Francesca Samsel)\n",
    "\n",
    "### Color Contrast, not hue enables to see more detail\n",
    "Things that make contrast in a painting: *hue, lightness (how light, strongest contrast), saturation (how intense), complimentary (visual volume of color), cool warm, proportion, simultaneity (hues that abutt one another have a visual vibration)*\n",
    "\n",
    "Luminance is the strongest kind of contrast\n",
    "\n",
    "*The key is allocating the types and levels of contrast that best enable the task and purpose of the visualization*\n",
    "\n",
    "There is a **contrast budget**: contrast directs attention, e.g. saturated colors guide to the important parts of a painting, but if there is too much it is distracting.\n",
    "\n",
    "\n",
    "There is **contrast of simultaneity** when two hues of full saturation are next to each other they generate a visual vibration. Lower saturation can make it better\n",
    "\n",
    "On a wide data range, a perceptually uniform colormap makes it hard to focus on any part of the picture. The brain can easily focus on parts of a picture with the same color say\n",
    "\n",
    "### Color interaction\n",
    "\n",
    "Lower saturation calms the picture and every color will be seen.\n",
    "\n",
    "Using too much saturation makes it hard to add anything to the picture because it will not be seen.\n",
    "\n",
    "There is **cognitive load**: It is tiring to look at too much contrast and saturation. Lower the *volume of contrast*."
   ]
  },
  {
   "cell_type": "markdown",
   "metadata": {},
   "source": [
    "## Useful links\n",
    "- https://sciviscolor.org/ (ColorMoves for composing colormaps and seeing them work on a dataset)\n",
    "- http://cu-visualab.org/ColorCrafter/ Alpha version does not work well"
   ]
  },
  {
   "cell_type": "code",
   "execution_count": 1,
   "metadata": {},
   "outputs": [],
   "source": [
    "import convert"
   ]
  },
  {
   "cell_type": "code",
   "execution_count": 2,
   "metadata": {},
   "outputs": [
    {
     "data": {
      "image/png": "[encoded data removed]",
      "text/html": [
       "<div style=\"vertical-align: middle;\"><strong>custom-colormap</strong> </div><div class=\"cmap\"><img alt=\"custom-colormap colormap\" title=\"custom-colormap\" style=\"border: 1px solid #555;\" src=\"data:image/png;base64,iVBORw0KGgoAAAANSUhEUgAAAgAAAABACAYAAABsv8+/AAAAHnRFWHRUaXRsZQBjdXN0b20tY29sb3JtYXAgY29sb3JtYXC1mpQXAAAAJHRFWHREZXNjcmlwdGlvbgBjdXN0b20tY29sb3JtYXAgY29sb3JtYXB/Jn14AAAAMHRFWHRBdXRob3IATWF0cGxvdGxpYiB2My41LjMsIGh0dHBzOi8vbWF0cGxvdGxpYi5vcmdn0eiSAAAAMnRFWHRTb2Z0d2FyZQBNYXRwbG90bGliIHYzLjUuMywgaHR0cHM6Ly9tYXRwbG90bGliLm9yZ0l3d7UAAAFXSURBVHic7dYxDoMwEADBM///MylQekiBrOxM48biEFewa2adMzPrOmatuXXOzXvf83h4/605T5//1pxdv5e9/PZe/zLHXvacYy97ztl3L9f//hgAIEcAAECQAACAIAEAAEECAACCBAAABAkAAAgSAAAQJAAAIEgAAECQAACAIAEAAEECAACCBAAABAkAAAgSAAAQJAAAIEgAAECQAACAIAEAAEECAACCBAAABAkAAAgSAAAQJAAAIEgAAECQAACAIAEAAEECAACCBAAABAkAAAgSAAAQJAAAIEgAAECQAACAIAEAAEECAACCBAAABAkAAAgSAAAQJAAAIEgAAECQAACAIAEAAEECAACCBAAABAkAAAgSAAAQJAAAIEgAAECQAACAIAEAAEECAACCBAAABAkAAAgSAAAQJAAAIEgAAECQAACAIAEAAEECAACCBAAABAkAAAj6AOqnBXyFL+5GAAAAAElFTkSuQmCC\"></div><div style=\"vertical-align: middle; max-width: 514px; display: flex; justify-content: space-between;\"><div style=\"float: left;\"><div title=\"#000001ff\" style=\"display: inline-block; width: 1em; height: 1em; margin: 0; vertical-align: middle; border: 1px solid #555; background-color: #000001ff;\"></div> under</div><div style=\"margin: 0 auto; display: inline-block;\">bad <div title=\"#00000000\" style=\"display: inline-block; width: 1em; height: 1em; margin: 0; vertical-align: middle; border: 1px solid #555; background-color: #00000000;\"></div></div><div style=\"float: right;\">over <div title=\"#ffffffff\" style=\"display: inline-block; width: 1em; height: 1em; margin: 0; vertical-align: middle; border: 1px solid #555; background-color: #ffffffff;\"></div></div>"
      ],
      "text/plain": [
       "<matplotlib.colors.LinearSegmentedColormap at 0x7efc18499b80>"
      ]
     },
     "execution_count": 2,
     "metadata": {},
     "output_type": "execute_result"
    }
   ],
   "source": [
    "my_cmap = convert.xml2cmap( 'FloatPNG_PV44.xml')\n",
    "my_cmap"
   ]
  },
  {
   "cell_type": "code",
   "execution_count": 3,
   "metadata": {},
   "outputs": [],
   "source": [
    "convert.cmap2json( my_cmap, 'my_cmap.json')"
   ]
  },
  {
   "cell_type": "code",
   "execution_count": 4,
   "metadata": {},
   "outputs": [],
   "source": [
    "convert.cmap2xml(my_cmap, \"test.xml\")"
   ]
  },
  {
   "cell_type": "code",
   "execution_count": null,
   "metadata": {},
   "outputs": [],
   "source": [
    "help(convert)"
   ]
  }
 ],
 "metadata": {
  "kernelspec": {
   "display_name": "Python 3 (ipykernel)",
   "language": "python",
   "name": "python3"
  },
  "language_info": {
   "codemirror_mode": {
    "name": "ipython",
    "version": 3
   },
   "file_extension": ".py",
   "mimetype": "text/x-python",
   "name": "python",
   "nbconvert_exporter": "python",
   "pygments_lexer": "ipython3",
   "version": "3.10.6"
  }
 },
 "nbformat": 4,
 "nbformat_minor": 4
}
